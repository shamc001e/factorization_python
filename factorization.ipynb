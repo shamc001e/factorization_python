{
 "cells": [
  {
   "cell_type": "code",
   "execution_count": null,
   "metadata": {},
   "outputs": [],
   "source": [
    "import math, sys\n",
    "\n",
    "while True:\n",
    "    print(\"\\nenter number to factorise(EXIT to quit) \")\n",
    "    response = input(\"> \")\n",
    "\n",
    "    if response.upper() == \"EXIT\":\n",
    "        sys.exit()\n",
    "\n",
    "    if not(response.isdecimal() and int(response) > 0):\n",
    "        continue\n",
    "    \n",
    "    number = int(response)\n",
    "\n",
    "    factors = []\n",
    "    sr = math.sqrt(number)\n",
    "    square_r = int(round(sr, 0)) + 1\n",
    "\n",
    "    for i in range(1, square_r):\n",
    "        if number % i == 0:\n",
    "            factors.append(i)\n",
    "            factors.append(number // i)\n",
    "    factors_srt = list(set(factors))        \n",
    "    factors_srt.sort()        \n",
    "\n",
    "    print(factors_srt)"
   ]
  }
 ],
 "metadata": {
  "kernelspec": {
   "display_name": "Python 3",
   "language": "python",
   "name": "python3"
  },
  "language_info": {
   "codemirror_mode": {
    "name": "ipython",
    "version": 3
   },
   "file_extension": ".py",
   "mimetype": "text/x-python",
   "name": "python",
   "nbconvert_exporter": "python",
   "pygments_lexer": "ipython3",
   "version": "3.7.6"
  }
 },
 "nbformat": 4,
 "nbformat_minor": 4
}
